{
 "cells": [
  {
   "cell_type": "markdown",
   "metadata": {
    "collapsed": true
   },
   "source": [
    "# Using Tensors and Numpy Arrays#\n",
    "\n",
    "I can easily switch between numpy arrays and tensors. After conversions, and until a new assignment, tensors and array will **share the same memory**."
   ]
  },
  {
   "cell_type": "code",
   "execution_count": 2,
   "metadata": {},
   "outputs": [],
   "source": [
    "#initilizations\n",
    "import numpy as np\n",
    "import torch"
   ]
  },
  {
   "cell_type": "markdown",
   "metadata": {},
   "source": [
    "start with 2 numpy arrays and a tensor pointing to same memory"
   ]
  },
  {
   "cell_type": "code",
   "execution_count": 3,
   "metadata": {},
   "outputs": [
    {
     "name": "stdout",
     "output_type": "stream",
     "text": [
      "> start\n",
      "np_a_bis =  [1 2]\n",
      "pyt_a =  tensor([1, 2])\n",
      "np_a =  [1 2]\n"
     ]
    }
   ],
   "source": [
    "np_a=np.array([1,2])\n",
    "pyt_a = torch.from_numpy(np_a)\n",
    "np_a_bis = pyt_a.numpy()\n",
    "print(\"> start\")\n",
    "print(\"np_a_bis = \", np_a_bis)\n",
    "print(\"pyt_a = \", pyt_a)\n",
    "print(\"np_a = \", np_a)"
   ]
  },
  {
   "cell_type": "markdown",
   "metadata": {},
   "source": [
    "in-place modify the tensor, all are modified"
   ]
  },
  {
   "cell_type": "code",
   "execution_count": 4,
   "metadata": {},
   "outputs": [
    {
     "name": "stdout",
     "output_type": "stream",
     "text": [
      "> pyt_a.mul_(2)\n",
      "np_a_bis =  [2 4]\n",
      "pyt_a =  tensor([2, 4])\n",
      "np_a =  [2 4]\n"
     ]
    }
   ],
   "source": [
    "print(\"> pyt_a.mul_(2)\")\n",
    "pyt_a.mul_(2)\n",
    "print(\"np_a_bis = \", np_a_bis)\n",
    "print(\"pyt_a = \", pyt_a)\n",
    "print(\"np_a = \", np_a)"
   ]
  },
  {
   "cell_type": "markdown",
   "metadata": {},
   "source": [
    "reassign the tensor, pyt_a will change alone"
   ]
  },
  {
   "cell_type": "code",
   "execution_count": 5,
   "metadata": {},
   "outputs": [
    {
     "name": "stdout",
     "output_type": "stream",
     "text": [
      "> pyt_a = pyt_a.add(-2)\n",
      "np_a_bis =  [2 4]\n",
      "pyt_a =  tensor([0, 2])\n",
      "np_a =  [2 4]\n"
     ]
    }
   ],
   "source": [
    "print(\"> pyt_a = pyt_a.add(-2)\")\n",
    "pyt_a = pyt_a.add(-2)\n",
    "print(\"np_a_bis = \", np_a_bis)\n",
    "print(\"pyt_a = \", pyt_a)\n",
    "print(\"np_a = \", np_a)\n"
   ]
  },
  {
   "cell_type": "markdown",
   "metadata": {},
   "source": [
    "in place modifications to np_a_bis also affects np_a (but not the tensor anymore"
   ]
  },
  {
   "cell_type": "code",
   "execution_count": 6,
   "metadata": {},
   "outputs": [
    {
     "name": "stdout",
     "output_type": "stream",
     "text": [
      "> np_a_bis.__iadd__(2)\n",
      "np_a_bis =  [4 6]\n",
      "pyt_a =  tensor([0, 2])\n",
      "np_a =  [4 6]\n"
     ]
    }
   ],
   "source": [
    "print(\"> np_a_bis.__iadd__(2)\")\n",
    "np_a_bis.__iadd__(2)\n",
    "print(\"np_a_bis = \", np_a_bis)\n",
    "print(\"pyt_a = \", pyt_a)\n",
    "print(\"np_a = \", np_a)"
   ]
  },
  {
   "cell_type": "markdown",
   "metadata": {},
   "source": [
    "the += operation appears to operate directly on memory, not on temporary. np_a and _bis still point to the same memory\n"
   ]
  },
  {
   "cell_type": "code",
   "execution_count": 7,
   "metadata": {},
   "outputs": [
    {
     "name": "stdout",
     "output_type": "stream",
     "text": [
      "> np_a +=2\n",
      "np_a_bis =  [6 8]\n",
      "pyt_a =  tensor([0, 2])\n",
      "np_a =  [6 8]\n"
     ]
    }
   ],
   "source": [
    "print(\"> np_a +=2\")\n",
    "np_a +=2\n",
    "print(\"np_a_bis = \", np_a_bis)\n",
    "print(\"pyt_a = \", pyt_a)\n",
    "print(\"np_a = \", np_a)"
   ]
  },
  {
   "cell_type": "markdown",
   "metadata": {},
   "source": [
    "the np_a =  np_a + 2 instead is an assignment and breaks the link between np_a and np_a_bis"
   ]
  },
  {
   "cell_type": "code",
   "execution_count": 8,
   "metadata": {},
   "outputs": [
    {
     "name": "stdout",
     "output_type": "stream",
     "text": [
      "> np_a = np_a + 2\n",
      "np_a_bis =  [6 8]\n",
      "pyt_a =  tensor([0, 2])\n",
      "np_a =  [ 8 10]\n"
     ]
    }
   ],
   "source": [
    "print(\"> np_a = np_a + 2\")\n",
    "np_a = np_a + 2\n",
    "print(\"np_a_bis = \", np_a_bis)\n",
    "print(\"pyt_a = \", pyt_a)\n",
    "print(\"np_a = \", np_a)\n"
   ]
  },
  {
   "cell_type": "code",
   "execution_count": null,
   "metadata": {},
   "outputs": [],
   "source": []
  }
 ],
 "metadata": {
  "kernelspec": {
   "display_name": "drlearn",
   "language": "python",
   "name": "drlearn"
  },
  "language_info": {
   "codemirror_mode": {
    "name": "ipython",
    "version": 3
   },
   "file_extension": ".py",
   "mimetype": "text/x-python",
   "name": "python",
   "nbconvert_exporter": "python",
   "pygments_lexer": "ipython3",
   "version": "3.6.7"
  }
 },
 "nbformat": 4,
 "nbformat_minor": 1
}
